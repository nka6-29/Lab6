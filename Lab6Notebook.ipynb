{
 "cells": [
  {
   "cell_type": "code",
   "execution_count": 7,
   "metadata": {},
   "outputs": [
    {
     "name": "stdin",
     "output_type": "stream",
     "text": [
      "What is your name: Alex\n",
      "Do you own at least one cat? (Y/N) n\n"
     ]
    },
    {
     "name": "stdout",
     "output_type": "stream",
     "text": [
      "Alex is most likely not awesome :(\n"
     ]
    }
   ],
   "source": [
    "name = input(\"What is your name:\")\n",
    "response = input(\"Do you own at least one cat? (Y/N)\")\n",
    "if response == \"Y\" or response == \"y\":\n",
    "    cat = True\n",
    "elif response == \"N\" or response == \"n\":\n",
    "    cat = False\n",
    "else:\n",
    "    print(\"Error.\", response, \"was not an expected response.\")\n",
    "if cat:\n",
    "    print(name, \"is awesome!\")\n",
    "elif not cat:\n",
    "    print(name, \"is most likely not awesome. :(\")\n",
    "else:\n",
    "    print(\"Error\")"
   ]
  },
  {
   "cell_type": "code",
   "execution_count": null,
   "metadata": {},
   "outputs": [],
   "source": []
  }
 ],
 "metadata": {
  "kernelspec": {
   "display_name": "Python 3.7",
   "language": "python",
   "name": "python3"
  },
  "language_info": {
   "codemirror_mode": {
    "name": "ipython",
    "version": 3
   },
   "file_extension": ".py",
   "mimetype": "text/x-python",
   "name": "python",
   "nbconvert_exporter": "python",
   "pygments_lexer": "ipython3",
   "version": "3.7.0"
  }
 },
 "nbformat": 4,
 "nbformat_minor": 2
}
